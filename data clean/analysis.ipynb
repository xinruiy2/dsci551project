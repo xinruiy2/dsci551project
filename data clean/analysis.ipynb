{
 "cells": [
  {
   "cell_type": "markdown",
   "metadata": {},
   "source": [
    "Preprocess both weather and traffic collision data and conduct data cleaning.  \n",
    "Build data models for both datasets and find relationships between them."
   ]
  },
  {
   "cell_type": "code",
   "execution_count": 1,
   "metadata": {},
   "outputs": [
    {
     "name": "stdout",
     "output_type": "stream",
     "text": [
      "<Response [200]>\n",
      "<Response [200]>\n"
     ]
    }
   ],
   "source": [
    "# download json data\n",
    "import requests\n",
    "import json\n",
    "\n",
    "url = 'https://project551-1f44c.firebaseio.com/weather.json'\n",
    "response = requests.get(url)\n",
    "data = response.json()\n",
    "print(response)\n",
    "\n",
    "with open('weather.json','w',encoding='utf-8') as file:\n",
    "    file.write(json.dumps(data,indent=2,ensure_ascii=False))\n",
    "    \n",
    "url = 'https://project551-1f44c.firebaseio.com/traffic.json'\n",
    "response = requests.get(url)\n",
    "data = response.json()\n",
    "print(response)\n",
    "\n",
    "with open('traffic.json','w',encoding='utf-8') as file:\n",
    "    file.write(json.dumps(data,indent=2,ensure_ascii=False))"
   ]
  },
  {
   "cell_type": "code",
   "execution_count": 18,
   "metadata": {},
   "outputs": [],
   "source": [
    "# weather = pd.read_csv(\"data/weather/weather_description.csv\", sep=',')\n",
    "# weather = weather[['datetime', 'Los Angeles']]\n",
    "# print(weather)\n",
    "# traffic = pd.read_csv(\"data/traffic/traffic-collision-data-from-2010-to-present.csv\", sep=',')\n",
    "# traffic = traffic[['Date Occurred', 'Time Occurred', 'Area Name']]\n",
    "# print(traffic)"
   ]
  },
  {
   "cell_type": "code",
   "execution_count": 3,
   "metadata": {},
   "outputs": [
    {
     "name": "stdout",
     "output_type": "stream",
     "text": [
      "            date  hour       weather\n",
      "0     2012-10-01     0  sky is clear\n",
      "1     2012-10-01     1              \n",
      "2     2012-10-01     2          mist\n",
      "3     2012-10-01     3  sky is clear\n",
      "4     2012-10-01     4  sky is clear\n",
      "...          ...   ...           ...\n",
      "45259 2017-11-29    19  sky is clear\n",
      "45260 2017-11-29    20  sky is clear\n",
      "45261 2017-11-29    21  sky is clear\n",
      "45262 2017-11-29    22  sky is clear\n",
      "45263 2017-11-29    23  sky is clear\n",
      "\n",
      "[45264 rows x 3 columns]\n"
     ]
    }
   ],
   "source": [
    "import pandas as pd\n",
    "\n",
    "# weather data\n",
    "weather = pd.read_json('weather.json')\n",
    "weather_data = {'date':[], 'hour': [], 'weather': []}\n",
    "for date in weather:\n",
    "    for hour, info in enumerate(weather[date]):\n",
    "        if type(info) is str:\n",
    "            weather_data['date'].append(date)\n",
    "            weather_data['hour'].append(hour)\n",
    "            weather_data['weather'].append(info)\n",
    "        else:\n",
    "            weather_data['date'].append(date)\n",
    "            weather_data['hour'].append(hour)\n",
    "            weather_data['weather'].append(None)\n",
    "weather_df = pd.DataFrame(weather_data)\n",
    "print(weather_df)"
   ]
  },
  {
   "cell_type": "code",
   "execution_count": 4,
   "metadata": {},
   "outputs": [
    {
     "name": "stdout",
     "output_type": "stream",
     "text": [
      "             date  hour         area  collision\n",
      "0      2010-01-01     0  77th Street          3\n",
      "1      2010-01-01     0     Foothill          1\n",
      "2      2010-01-01     0       Harbor          1\n",
      "3      2010-01-01     0   Hollenbeck          1\n",
      "4      2010-01-01     0    Southwest          1\n",
      "...           ...   ...          ...        ...\n",
      "421804 2019-11-30    19         None          0\n",
      "421805 2019-11-30    20         None          0\n",
      "421806 2019-11-30    21         None          0\n",
      "421807 2019-11-30    22         None          0\n",
      "421808 2019-11-30    23         None          0\n",
      "\n",
      "[421809 rows x 4 columns]\n"
     ]
    }
   ],
   "source": [
    "# traffic data\n",
    "traffic = pd.read_json('traffic.json')\n",
    "traffic_data = {'date':[], 'hour': [], 'area': [], 'collision': []}\n",
    "for date in traffic:\n",
    "    for hour, info in enumerate(traffic[date]):\n",
    "        if type(info) is dict: \n",
    "            for area in info:\n",
    "                traffic_data['date'].append(date)\n",
    "                traffic_data['hour'].append(hour)\n",
    "                traffic_data['area'].append(area)\n",
    "                traffic_data['collision'].append(info[area])\n",
    "        else:\n",
    "            traffic_data['date'].append(date)\n",
    "            traffic_data['hour'].append(hour)\n",
    "            traffic_data['area'].append(None)\n",
    "            traffic_data['collision'].append(0)\n",
    "traffic_df = pd.DataFrame(traffic_data)\n",
    "print(traffic_df)"
   ]
  },
  {
   "cell_type": "code",
   "execution_count": 7,
   "metadata": {},
   "outputs": [
    {
     "data": {
      "text/plain": [
       "{'77th Street',\n",
       " 'Central',\n",
       " 'Devonshire',\n",
       " 'Foothill',\n",
       " 'Harbor',\n",
       " 'Hollenbeck',\n",
       " 'Hollywood',\n",
       " 'Mission',\n",
       " 'N Hollywood',\n",
       " 'Newton',\n",
       " None,\n",
       " 'Northeast',\n",
       " 'Olympic',\n",
       " 'Pacific',\n",
       " 'Rampart',\n",
       " 'Southeast',\n",
       " 'Southwest',\n",
       " 'Topanga',\n",
       " 'Van Nuys',\n",
       " 'West LA',\n",
       " 'West Valley',\n",
       " 'Wilshire'}"
      ]
     },
     "execution_count": 7,
     "metadata": {},
     "output_type": "execute_result"
    }
   ],
   "source": [
    "set(traffic_df.area)"
   ]
  },
  {
   "cell_type": "code",
   "execution_count": 58,
   "metadata": {},
   "outputs": [
    {
     "name": "stdout",
     "output_type": "stream",
     "text": [
      "             date  hour       weather        area  collision\n",
      "0      2012-10-01     0  sky is clear        None          0\n",
      "1      2012-10-01     1                      None          0\n",
      "2      2012-10-01     2          mist     Mission          1\n",
      "3      2012-10-01     2          mist     Olympic          1\n",
      "4      2012-10-01     2          mist     Topanga          1\n",
      "...           ...   ...           ...         ...        ...\n",
      "221770 2017-11-29    22  sky is clear     West LA          2\n",
      "221771 2017-11-29    23  sky is clear    Foothill          1\n",
      "221772 2017-11-29    23  sky is clear  Hollenbeck          1\n",
      "221773 2017-11-29    23  sky is clear     Rampart          1\n",
      "221774 2017-11-29    23  sky is clear   Southwest          1\n",
      "\n",
      "[221775 rows x 5 columns]\n"
     ]
    }
   ],
   "source": [
    "df = pd.merge(weather_df, traffic_df)\n",
    "print(df)"
   ]
  },
  {
   "cell_type": "code",
   "execution_count": 75,
   "metadata": {},
   "outputs": [
    {
     "name": "stdout",
     "output_type": "stream",
     "text": [
      "            date  hour       weather  collision\n",
      "13    2012-10-02     0  sky is clear          1\n",
      "14    2012-10-02     1  sky is clear          2\n",
      "15    2012-10-02     2  sky is clear          3\n",
      "16    2012-10-02     3          mist          1\n",
      "17    2012-10-02     4           fog          1\n",
      "...          ...   ...           ...        ...\n",
      "45248 2017-11-29    19  sky is clear         12\n",
      "45249 2017-11-29    20  sky is clear          5\n",
      "45250 2017-11-29    21  sky is clear          3\n",
      "45251 2017-11-29    22  sky is clear          7\n",
      "45252 2017-11-29    23  sky is clear          4\n",
      "\n",
      "[45240 rows x 4 columns]\n"
     ]
    }
   ],
   "source": [
    "df0 = df.groupby(['date','hour', 'weather']) # .agg(sum_collision=pd.NamedAgg('collision', 'sum'))\n",
    "df0 = pd.DataFrame(df0.sum()).reset_index()\n",
    "df0 = df0[13:] # 不要2012-10-01的数据 因为weather有missing value\n",
    "print(df0)"
   ]
  },
  {
   "cell_type": "code",
   "execution_count": 181,
   "metadata": {},
   "outputs": [
    {
     "name": "stdout",
     "output_type": "stream",
     "text": [
      "                         weather  count_hour  sum_collision  ave_collision\n",
      "0         thunderstorm with rain           2              2       1.000000\n",
      "1                            fog         566           2190       3.869258\n",
      "2                        squalls           3             13       4.333333\n",
      "3                           mist        2960          14581       4.926014\n",
      "4   thunderstorm with light rain          13             69       5.307692\n",
      "5                           haze        3532          18902       5.351642\n",
      "6                     light rain        1949          10590       5.433556\n",
      "7        light intensity drizzle         104            569       5.471154\n",
      "8           heavy intensity rain         127            696       5.480315\n",
      "9                very heavy rain          20            110       5.500000\n",
      "10                   shower rain           8             44       5.500000\n",
      "11               overcast clouds        2432          13495       5.548931\n",
      "12              scattered clouds        2271          13069       5.754734\n",
      "13                 moderate rain         481           2847       5.918919\n",
      "14                  sky is clear       26125         159137       6.091368\n",
      "15                 broken clouds        2565          15630       6.093567\n",
      "16                    few clouds        1757          10708       6.094479\n",
      "17                  thunderstorm          17            105       6.176471\n",
      "18                         smoke         203           1276       6.285714\n",
      "19                          dust          66            424       6.424242\n",
      "20         proximity shower rain           4             26       6.500000\n",
      "21                       drizzle           5             38       7.600000\n",
      "22        proximity thunderstorm          25            192       7.680000\n",
      "23  thunderstorm with heavy rain           2             16       8.000000\n",
      "24   light intensity shower rain           3             27       9.000000\n",
      "['thunderstorm with rain' 'squalls' 'thunderstorm with light rain'\n",
      " 'very heavy rain' 'shower rain' 'thunderstorm' 'proximity shower rain'\n",
      " 'drizzle' 'proximity thunderstorm' 'thunderstorm with heavy rain'\n",
      " 'light intensity shower rain']\n"
     ]
    }
   ],
   "source": [
    "# 不同天气下平均每小时的车祸次数\n",
    "df1 = df0.groupby('weather').agg(count_hour=pd.NamedAgg('weather','count'),sum_collision=pd.NamedAgg('collision', 'sum'))\n",
    "df1 = pd.DataFrame(df1).reset_index()\n",
    "df1['ave_collision'] = df1.apply(lambda x: x['sum_collision']/x['count_hour'], axis=1)\n",
    "df1 = df1.sort_values(by='ave_collision').reset_index(drop=True)\n",
    "print(df1)\n",
    "\n",
    "rare_weather = df1[df1['count_hour']<30]['weather'].values\n",
    "# print(rare_weather)"
   ]
  },
  {
   "cell_type": "code",
   "execution_count": 82,
   "metadata": {},
   "outputs": [
    {
     "data": {
      "image/png": "[encoded data removed]",
      "text/plain": [
       "<Figure size 432x288 with 1 Axes>"
      ]
     },
     "metadata": {},
     "output_type": "display_data"
    }
   ],
   "source": [
    "# 不同日期同一小时内的平均车祸次数\n",
    "import matplotlib.pyplot as plt\n",
    "\n",
    "df2 = df0.groupby('hour').agg(count=pd.NamedAgg('hour','count'),sum_collision=pd.NamedAgg('collision', 'sum'))\n",
    "df2 = pd.DataFrame(df2).reset_index()\n",
    "df2['ave_collision'] = df2.apply(lambda x: x['sum_collision']/x['count'], axis=1)\n",
    "# df2 = df2.sort_values(by='ave_collision').reset_index(drop=True)[['hour', 'ave_collision']]\n",
    "# print(df2[['hour', 'ave_collision']])\n",
    "\n",
    "x_data = df2['hour']\n",
    "y_data = df2['ave_collision']\n",
    "plt.bar(x=x_data, height=y_data)\n",
    "plt.xlabel('hour')\n",
    "plt.ylabel('# of collision (ave)')\n",
    "plt.show()"
   ]
  },
  {
   "cell_type": "code",
   "execution_count": 164,
   "metadata": {},
   "outputs": [
    {
     "data": {
      "image/png": "[encoded data removed]",
      "text/plain": [
       "<Figure size 432x288 with 1 Axes>"
      ]
     },
     "metadata": {},
     "output_type": "display_data"
    }
   ],
   "source": [
    "# 不同月的平均车祸次数\n",
    "df4 = df0.copy(deep=True)\n",
    "df4['date'] = pd.to_datetime(df4['date'],format='%Y-%m-%d')\n",
    "df4['year'] = df4['date'].dt.year\n",
    "df4['month'] = df4['date'].dt.month\n",
    "df4['day'] = df4['date'].dt.day\n",
    "df5 = df4.groupby('month').agg(sum_collision=pd.NamedAgg('collision', 'sum'))\n",
    "df5 = pd.DataFrame(df5).reset_index()\n",
    "df5['ave_collision'] = df5.apply(lambda x: x['sum_collision']/6 if x['month']==11 or x['month']==10 else x['sum_collision']/5, axis=1)\n",
    "# print(df5)\n",
    "\n",
    "x_data = df5['month']\n",
    "y_data = df5['ave_collision']\n",
    "plt.bar(x=x_data, height=y_data)\n",
    "plt.xlabel('month')\n",
    "plt.ylabel('# of collision (ave)')\n",
    "plt.show()"
   ]
  },
  {
   "cell_type": "code",
   "execution_count": 186,
   "metadata": {},
   "outputs": [
    {
     "name": "stdout",
     "output_type": "stream",
     "text": [
      "            date  hour       weather  collision\n",
      "13    2012-10-02     0  sky is clear          1\n",
      "14    2012-10-02     1  sky is clear          2\n",
      "15    2012-10-02     2  sky is clear          3\n",
      "16    2012-10-02     3          mist          1\n",
      "17    2012-10-02     4           fog          1\n",
      "...          ...   ...           ...        ...\n",
      "45248 2017-11-29    19  sky is clear         12\n",
      "45249 2017-11-29    20  sky is clear          5\n",
      "45250 2017-11-29    21  sky is clear          3\n",
      "45251 2017-11-29    22  sky is clear          7\n",
      "45252 2017-11-29    23  sky is clear          4\n",
      "\n",
      "[45138 rows x 4 columns]\n"
     ]
    }
   ],
   "source": [
    "from sklearn.preprocessing import OrdinalEncoder\n",
    "import numpy as np\n",
    "\n",
    "df3 = df0.copy(deep=True)\n",
    "df3 = df3[~df3['weather'].isin(rare_weather)]\n",
    "# print(df3)\n",
    "X = df3.iloc[:, :-1]\n",
    "y = df3.iloc[:, -1]\n",
    "\n",
    "# X['date'] = pd.to_datetime(X['date'],format='%Y-%m-%d')\n",
    "# X['month'] = X['date'].dt.month\n",
    "# X['day'] = X['date'].dt.day\n",
    "X.drop('date', axis=1, inplace=True)\n",
    "X = pd.get_dummies(X, prefix=['weather'])  # 独热编码\n",
    "# X.iloc[:,1] = OrdinalEncoder().fit_transform(np.array(X.iloc[:,1]).reshape(-1, 1))  # 特征工程专用编码\n",
    "# print(X)"
   ]
  },
  {
   "cell_type": "code",
   "execution_count": 187,
   "metadata": {},
   "outputs": [
    {
     "name": "stdout",
     "output_type": "stream",
     "text": [
      "0.3989363001475826\n"
     ]
    }
   ],
   "source": [
    "# RandomForest\n",
    "from sklearn.model_selection import cross_val_score\n",
    "from sklearn.ensemble import RandomForestRegressor\n",
    "from sklearn.model_selection import train_test_split\n",
    "\n",
    "x_train, x_test, y_train, y_test = train_test_split(X, y,random_state=1, train_size=0.7) # stratify=X['weather']\n",
    " \n",
    "clf = RandomForestRegressor(max_features=None, max_depth=None,min_samples_split=2, bootstrap=True)\n",
    "clf.fit(x_train, y_train)\n",
    "\n",
    "scores = cross_val_score(clf, x_train, y_train)\n",
    "print(scores.mean())"
   ]
  },
  {
   "cell_type": "code",
   "execution_count": 170,
   "metadata": {},
   "outputs": [],
   "source": [
    "## LogisticRegression\n",
    "# from sklearn.linear_model import LogisticRegression\n",
    "\n",
    "# lr = LogisticRegression(max_iter=1000)\n",
    "# lr.fit(x_train, y_train)\n",
    " \n",
    "# pre = lr.predict_proba(x_test)\n",
    "# acc = lr.score(x_test,y_test)\n",
    "# print(acc)"
   ]
  },
  {
   "cell_type": "code",
   "execution_count": null,
   "metadata": {},
   "outputs": [],
   "source": []
  }
 ],
 "metadata": {
  "kernelspec": {
   "display_name": "Python 3",
   "language": "python",
   "name": "python3"
  },
  "language_info": {
   "codemirror_mode": {
    "name": "ipython",
    "version": 3
   },
   "file_extension": ".py",
   "mimetype": "text/x-python",
   "name": "python",
   "nbconvert_exporter": "python",
   "pygments_lexer": "ipython3",
   "version": "3.6.5"
  },
  "varInspector": {
   "cols": {
    "lenName": 16.0,
    "lenType": 16.0,
    "lenVar": 40.0
   },
   "kernels_config": {
    "python": {
     "delete_cmd_postfix": "",
     "delete_cmd_prefix": "del ",
     "library": "var_list.py",
     "varRefreshCmd": "print(var_dic_list())"
    },
    "r": {
     "delete_cmd_postfix": ") ",
     "delete_cmd_prefix": "rm(",
     "library": "var_list.r",
     "varRefreshCmd": "cat(var_dic_list()) "
    }
   },
   "types_to_exclude": [
    "module",
    "function",
    "builtin_function_or_method",
    "instance",
    "_Feature"
   ],
   "window_display": false
  }
 },
 "nbformat": 4,
 "nbformat_minor": 2
}
